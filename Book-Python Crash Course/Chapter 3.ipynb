{
 "cells": [
  {
   "cell_type": "code",
   "execution_count": 64,
   "metadata": {},
   "outputs": [
    {
     "name": "stdout",
     "output_type": "stream",
     "text": [
      "['soman', 'baqai', 'amir', 'ali', 'hira', 'amin', 'maham', 'saad']\n"
     ]
    }
   ],
   "source": [
    "# Printting the whole list\n",
    "names = ['soman','baqai','amir','ali','hira','amin','maham','saad']\n",
    "print(names)"
   ]
  },
  {
   "cell_type": "code",
   "execution_count": 65,
   "metadata": {},
   "outputs": [
    {
     "name": "stdout",
     "output_type": "stream",
     "text": [
      "baqai\n"
     ]
    }
   ],
   "source": [
    "# printing element at index 1\n",
    "print(names[1])"
   ]
  },
  {
   "cell_type": "code",
   "execution_count": 66,
   "metadata": {},
   "outputs": [
    {
     "name": "stdout",
     "output_type": "stream",
     "text": [
      "saad\n"
     ]
    }
   ],
   "source": [
    "#printing last element in the list\n",
    "print(names[-1])"
   ]
  },
  {
   "cell_type": "code",
   "execution_count": 67,
   "metadata": {},
   "outputs": [
    {
     "name": "stdout",
     "output_type": "stream",
     "text": [
      "hasan\n"
     ]
    }
   ],
   "source": [
    "# adding element in the list at last position\n",
    "names.append('hasan')\n",
    "print(names[-1])"
   ]
  },
  {
   "cell_type": "code",
   "execution_count": 68,
   "metadata": {},
   "outputs": [
    {
     "name": "stdout",
     "output_type": "stream",
     "text": [
      "Muhammad\n"
     ]
    }
   ],
   "source": [
    "# Adding element at particular index\n",
    "names.insert(0,'muhammad')\n",
    "print(names[0].title())"
   ]
  },
  {
   "cell_type": "code",
   "execution_count": 69,
   "metadata": {},
   "outputs": [
    {
     "name": "stdout",
     "output_type": "stream",
     "text": [
      "['muhammad', 'soman', 'baqai', 'amir', 'ali', 'hira', 'amin', 'maham', 'saad', 'hasan']\n",
      "['muhammad', 'soman', 'baqai', 'amir', 'ali', 'hira', 'amin', 'maham', 'saad']\n"
     ]
    }
   ],
   "source": [
    "# Deleting an item through del keyword\n",
    "print(names)\n",
    "del names[-1]\n",
    "print(names)\n"
   ]
  },
  {
   "cell_type": "code",
   "execution_count": 70,
   "metadata": {},
   "outputs": [
    {
     "name": "stdout",
     "output_type": "stream",
     "text": [
      "my name is Soman\n",
      "['muhammad', 'baqai', 'amir', 'ali', 'hira', 'amin', 'maham', 'saad']\n"
     ]
    }
   ],
   "source": [
    "# popping an element from the list\n",
    "poped_name = names.pop(1)\n",
    "print(\"my name is \" + poped_name.title())\n",
    "print(names)"
   ]
  },
  {
   "cell_type": "code",
   "execution_count": 71,
   "metadata": {},
   "outputs": [
    {
     "name": "stdout",
     "output_type": "stream",
     "text": [
      "['muhammad', 'baqai', 'amir', 'ali', 'hira', 'amin', 'saad']\n"
     ]
    }
   ],
   "source": [
    "# removing an element through value\n",
    "names.remove('maham')\n",
    "print(names)"
   ]
  },
  {
   "cell_type": "code",
   "execution_count": 72,
   "metadata": {},
   "outputs": [
    {
     "name": "stdout",
     "output_type": "stream",
     "text": [
      "['ali', 'amin', 'amir', 'baqai', 'hira', 'muhammad', 'saad']\n",
      "['muhammad', 'baqai', 'amir', 'ali', 'hira', 'amin', 'saad']\n"
     ]
    }
   ],
   "source": [
    "# sort list temporarily\n",
    "print(sorted(names))\n",
    "print(names)"
   ]
  },
  {
   "cell_type": "code",
   "execution_count": 73,
   "metadata": {},
   "outputs": [
    {
     "name": "stdout",
     "output_type": "stream",
     "text": [
      "['saad', 'amin', 'hira', 'ali', 'amir', 'baqai', 'muhammad']\n"
     ]
    }
   ],
   "source": [
    "# to reverse the list\n",
    "names.reverse()\n",
    "print(names)"
   ]
  },
  {
   "cell_type": "code",
   "execution_count": 74,
   "metadata": {},
   "outputs": [
    {
     "name": "stdout",
     "output_type": "stream",
     "text": [
      "['ali', 'amin', 'amir', 'baqai', 'hira', 'muhammad', 'saad']\n"
     ]
    }
   ],
   "source": [
    "# sort list permanintly\n",
    "names.sort()\n",
    "print(names)"
   ]
  },
  {
   "cell_type": "code",
   "execution_count": 75,
   "metadata": {},
   "outputs": [
    {
     "name": "stdout",
     "output_type": "stream",
     "text": [
      "7\n"
     ]
    }
   ],
   "source": [
    "# to get the length of list\n",
    "print(len(names))"
   ]
  }
 ],
 "metadata": {
  "kernelspec": {
   "display_name": "Python 3",
   "language": "python",
   "name": "python3"
  },
  "language_info": {
   "codemirror_mode": {
    "name": "ipython",
    "version": 3
   },
   "file_extension": ".py",
   "mimetype": "text/x-python",
   "name": "python",
   "nbconvert_exporter": "python",
   "pygments_lexer": "ipython3",
   "version": "3.6.5"
  }
 },
 "nbformat": 4,
 "nbformat_minor": 2
}
