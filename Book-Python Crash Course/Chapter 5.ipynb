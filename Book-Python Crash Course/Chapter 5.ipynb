{
 "cells": [
  {
   "cell_type": "markdown",
   "metadata": {},
   "source": [
    "# IF-ELSE Statement\n"
   ]
  },
  {
   "cell_type": "code",
   "execution_count": 23,
   "metadata": {},
   "outputs": [
    {
     "name": "stdout",
     "output_type": "stream",
     "text": [
      "True\n"
     ]
    }
   ],
   "source": [
    "# Assignment vs equality\n",
    "name ='soman'\n",
    "print(name == 'soman') "
   ]
  },
  {
   "cell_type": "code",
   "execution_count": 24,
   "metadata": {},
   "outputs": [
    {
     "name": "stdout",
     "output_type": "stream",
     "text": [
      "True\n"
     ]
    }
   ],
   "source": [
    "# Checking equality ignoring case\n",
    "name = 'Soman'\n",
    "print(name.lower() == 'soman')"
   ]
  },
  {
   "cell_type": "code",
   "execution_count": 25,
   "metadata": {},
   "outputs": [
    {
     "name": "stdout",
     "output_type": "stream",
     "text": [
      "a is equal to b\n"
     ]
    }
   ],
   "source": [
    "# 'AND' condition\n",
    "a =1\n",
    "b =1\n",
    "if(a == 1) and (b ==1):\n",
    "    print(\"a is equal to b\")"
   ]
  },
  {
   "cell_type": "code",
   "execution_count": 26,
   "metadata": {},
   "outputs": [
    {
     "name": "stdout",
     "output_type": "stream",
     "text": [
      "True\n",
      "False\n"
     ]
    }
   ],
   "source": [
    "# checking wheather value is in the list\n",
    "numbers = [12,13,45,56,78]\n",
    "res = 45 in numbers\n",
    "print(res)\n",
    "print(13 not in numbers)"
   ]
  },
  {
   "cell_type": "code",
   "execution_count": 27,
   "metadata": {},
   "outputs": [
    {
     "name": "stdout",
     "output_type": "stream",
     "text": [
      "else if: 45 is in list\n"
     ]
    }
   ],
   "source": [
    "# if-elif-else statement\n",
    "if (4 in numbers):\n",
    "    print(\"4 is in numbers\")\n",
    "elif (45 in numbers):\n",
    "    print(\"else if: 45 is in list\")\n",
    "else:\n",
    "    print(\"none exist\")"
   ]
  },
  {
   "cell_type": "code",
   "execution_count": 28,
   "metadata": {},
   "outputs": [
    {
     "name": "stdout",
     "output_type": "stream",
     "text": [
      "i am empty\n"
     ]
    }
   ],
   "source": [
    "# checking whethre the list is empty or \n",
    "i_m_empty = []\n",
    "if(i_m_empty):\n",
    "    print(\"list not empty\")\n",
    "else:\n",
    "    print(\"i am empty\")"
   ]
  },
  {
   "cell_type": "code",
   "execution_count": null,
   "metadata": {},
   "outputs": [],
   "source": []
  }
 ],
 "metadata": {
  "kernelspec": {
   "display_name": "Python 3",
   "language": "python",
   "name": "python3"
  },
  "language_info": {
   "codemirror_mode": {
    "name": "ipython",
    "version": 3
   },
   "file_extension": ".py",
   "mimetype": "text/x-python",
   "name": "python",
   "nbconvert_exporter": "python",
   "pygments_lexer": "ipython3",
   "version": "3.6.5"
  }
 },
 "nbformat": 4,
 "nbformat_minor": 2
}
