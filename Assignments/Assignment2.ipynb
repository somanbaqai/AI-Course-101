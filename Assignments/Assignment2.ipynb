{
 "cells": [
  {
   "cell_type": "markdown",
   "metadata": {},
   "source": [
    "<h3>Q no 1:  Write a python program to find number of occurrences of given number in a list with out using built-in methods</h3>\n",
    "<h4>**1 generate a list of some random num which is repeated again and again</h4>\n",
    "<h4>**2 take user input any number</h4>\n",
    "<h4>**3 find the number of occurrences of that num in your list</h4>\n",
    "<h4>**4 print some message to user with that result</h4>"
   ]
  },
  {
   "cell_type": "code",
   "execution_count": 108,
   "metadata": {},
   "outputs": [],
   "source": [
    "my_list  = [23,34,34,4,25,345,34,76,35,87]\n",
    "# Built-in method => my_list.count(34)"
   ]
  },
  {
   "cell_type": "code",
   "execution_count": 109,
   "metadata": {},
   "outputs": [
    {
     "name": "stdout",
     "output_type": "stream",
     "text": [
      "Enter Number Here: 34\n"
     ]
    }
   ],
   "source": [
    "inputNum = int(input(\"Enter Number Here: \"))"
   ]
  },
  {
   "cell_type": "code",
   "execution_count": 110,
   "metadata": {},
   "outputs": [],
   "source": [
    "count = 0\n",
    "for num in my_list:\n",
    "    if(inputNum == num):\n",
    "        count+=1\n"
   ]
  },
  {
   "cell_type": "code",
   "execution_count": 111,
   "metadata": {},
   "outputs": [
    {
     "name": "stdout",
     "output_type": "stream",
     "text": [
      "34 occuers '3' times in list.\n"
     ]
    }
   ],
   "source": [
    "print(\"{} occuers '{}' times in list.\".format(inputNum,count)) "
   ]
  },
  {
   "cell_type": "markdown",
   "metadata": {},
   "source": [
    "<h3>Q no 2:   [\"www.zframez.com\", \"www.wikipedia.org\", \"www.asp.net\", \"www.abcd.in\"]\n",
    "<br/><br/><br/><br/><br/>\n",
    "Write a python program to print website suffixes (com , org , net ,in) from this list\n",
    "</h3>"
   ]
  },
  {
   "cell_type": "code",
   "execution_count": 2,
   "metadata": {},
   "outputs": [],
   "source": [
    "website_list =  [\"www.zframez.com\", \"www.wikipedia.org\", \"www.asp.net\", \"www.abcd.in\"]\n"
   ]
  },
  {
   "cell_type": "code",
   "execution_count": 4,
   "metadata": {},
   "outputs": [
    {
     "name": "stdout",
     "output_type": "stream",
     "text": [
      "com\n",
      "org\n",
      "net\n",
      "in\n"
     ]
    }
   ],
   "source": [
    "for website in website_list:\n",
    "    print(website.split('.')[-1])"
   ]
  },
  {
   "cell_type": "markdown",
   "metadata": {},
   "source": [
    "<h3> Q no 3 : Write a program which can compute the factorial of a given numbers.</h3>\n",
    "<br/>\n",
    "<br/>\n",
    "<h4>**1 first take user input any number</h4>\n",
    "<h4>**2 calculate factorial of that input and then print the result to user</h4>"
   ]
  },
  {
   "cell_type": "code",
   "execution_count": 114,
   "metadata": {},
   "outputs": [
    {
     "name": "stdout",
     "output_type": "stream",
     "text": [
      "Give Number to find factorial: 5\n"
     ]
    }
   ],
   "source": [
    "factNum = int(input(\"Give Number to find factorial: \"))"
   ]
  },
  {
   "cell_type": "code",
   "execution_count": 115,
   "metadata": {},
   "outputs": [],
   "source": [
    "if(factNum == 0):\n",
    "    factorialresult = 1\n",
    "else:\n",
    "    \n",
    "    \n",
    "    i = factNum\n",
    "    factorailResult = 1\n",
    "    while(i > 1):\n",
    "        factorailResult =  factorailResult * i\n",
    "        i-=1"
   ]
  },
  {
   "cell_type": "code",
   "execution_count": 116,
   "metadata": {},
   "outputs": [
    {
     "name": "stdout",
     "output_type": "stream",
     "text": [
      "5 factorial is: 120\n"
     ]
    }
   ],
   "source": [
    "print(\"{} factorial is: {}\".format(factNum,factorailResult))"
   ]
  },
  {
   "cell_type": "code",
   "execution_count": 117,
   "metadata": {},
   "outputs": [],
   "source": [
    "# below is the built-in method to find factorial\n",
    "#import math\n",
    "#math.factorial(factNum)"
   ]
  },
  {
   "cell_type": "markdown",
   "metadata": {},
   "source": [
    "<h3>Q 4 (a) :  If you could invite anyone, living or deceased, to dinner, who\n",
    "would you invite? Make a list that includes at least three people you’d like to\n",
    "invite to dinner. Then use your list to print a message to each person, inviting\n",
    "them to dinner.</h3>"
   ]
  },
  {
   "cell_type": "code",
   "execution_count": 118,
   "metadata": {},
   "outputs": [],
   "source": [
    "friends_list = []    "
   ]
  },
  {
   "cell_type": "code",
   "execution_count": 119,
   "metadata": {},
   "outputs": [
    {
     "name": "stdout",
     "output_type": "stream",
     "text": [
      "frined Name: soman\n",
      "frined Name: hasan\n",
      "frined Name: saad\n",
      "frined Name: amin\n",
      "frined Name: taseen\n"
     ]
    }
   ],
   "source": [
    "for i in range(0,5):\n",
    "    friends_list.append(input(\"frined Name: \"))\n"
   ]
  },
  {
   "cell_type": "code",
   "execution_count": 120,
   "metadata": {},
   "outputs": [
    {
     "name": "stdout",
     "output_type": "stream",
     "text": [
      "Dear Soman! I would like to invite you for dinner with me.\n",
      "Dear Hasan! I would like to invite you for dinner with me.\n",
      "Dear Saad! I would like to invite you for dinner with me.\n",
      "Dear Amin! I would like to invite you for dinner with me.\n",
      "Dear Taseen! I would like to invite you for dinner with me.\n"
     ]
    }
   ],
   "source": [
    "for friend in friends_list:\n",
    "    print(\"Dear {}! I would like to invite you for dinner with me.\".format(friend.capitalize()))"
   ]
  },
  {
   "cell_type": "markdown",
   "metadata": {},
   "source": [
    "<h3>Q 4 (b) : You just heard that one of your guests can’t make the\n",
    "dinner, so you need to send out a new set of invitations. You’ll have to think of\n",
    "someone else to invite.<br/></br><br/>\n",
    "•\t Start with your program from Q 4 (a). Add a print statement at the\n",
    "end of your program stating the name of the guest who can’t make it.<br/></br><br/>\n",
    "•\t Modify your list, replacing the name of the guest who can’t make it with\n",
    "the name of the new person you are inviting.<br/></br><br/>\n",
    "•\t Print a second set of invitation messages, one for each person who is still\n",
    "in your list.<br/></br><br/></h3>"
   ]
  },
  {
   "cell_type": "code",
   "execution_count": 121,
   "metadata": {},
   "outputs": [
    {
     "name": "stdout",
     "output_type": "stream",
     "text": [
      "Sorry 'Soman' cannot make it to the dinner.\n"
     ]
    }
   ],
   "source": [
    "import random\n",
    "indexVal = random.randint(0,3)\n",
    "print(\"Sorry '{}' cannot make it to the dinner.\".format(friends_list[indexVal].capitalize()))"
   ]
  },
  {
   "cell_type": "code",
   "execution_count": 122,
   "metadata": {},
   "outputs": [
    {
     "name": "stdout",
     "output_type": "stream",
     "text": [
      "Name the new person you would like to invite: zaid\n"
     ]
    }
   ],
   "source": [
    "friends_list[indexVal] = input(\"Name the new person you would like to invite: \")"
   ]
  },
  {
   "cell_type": "code",
   "execution_count": 123,
   "metadata": {},
   "outputs": [
    {
     "name": "stdout",
     "output_type": "stream",
     "text": [
      "Dear Zaid! I would like to invite you for dinner with me.\n",
      "Dear Hasan! I would like to invite you for dinner with me.\n",
      "Dear Saad! I would like to invite you for dinner with me.\n",
      "Dear Amin! I would like to invite you for dinner with me.\n",
      "Dear Taseen! I would like to invite you for dinner with me.\n"
     ]
    }
   ],
   "source": [
    "for friend in friends_list:\n",
    "    print(\"Dear {}! I would like to invite you for dinner with me.\".format(friend.capitalize()))"
   ]
  },
  {
   "cell_type": "markdown",
   "metadata": {},
   "source": [
    "<h3>Q 4 (c) : You just found a bigger dinner table, so now more space is\n",
    "available. Think of three more guests to invite to dinner.<br/></br><br/>\n",
    "•\t Start with your program from Q 4 (a) and (b) Add a print\n",
    "statement to the end of your program informing people that you found a\n",
    "bigger dinner table.<br/></br><br/>\n",
    "•\t Use insert() to add one new guest to the beginning of your list.<br/></br><br/>\n",
    "•\t Use insert() to add one new guest to the middle of your list.<br/></br><br/>\n",
    "•\t Use append() to add one new guest to the end of your list.<br/></br><br/>\n",
    "•\t Print a new set of invitation messages, one for each person in your list.<br/></br><br/></h3>"
   ]
  },
  {
   "cell_type": "code",
   "execution_count": 124,
   "metadata": {},
   "outputs": [
    {
     "name": "stdout",
     "output_type": "stream",
     "text": [
      "YAY !! Found bigger table\n"
     ]
    }
   ],
   "source": [
    "print(\"YAY !! Found bigger table\")\n"
   ]
  },
  {
   "cell_type": "code",
   "execution_count": 125,
   "metadata": {},
   "outputs": [
    {
     "name": "stdout",
     "output_type": "stream",
     "text": [
      "Name new guest: soman\n"
     ]
    }
   ],
   "source": [
    "friends_list.insert(0,input(\"Name new guest: \"))"
   ]
  },
  {
   "cell_type": "code",
   "execution_count": 126,
   "metadata": {},
   "outputs": [
    {
     "name": "stdout",
     "output_type": "stream",
     "text": [
      "name new guest: amir\n"
     ]
    }
   ],
   "source": [
    "friends_list.insert(round(len(friends_list)/2),input(\"name new guest: \"))"
   ]
  },
  {
   "cell_type": "code",
   "execution_count": 127,
   "metadata": {},
   "outputs": [
    {
     "name": "stdout",
     "output_type": "stream",
     "text": [
      "name new Guestmuteeb\n"
     ]
    }
   ],
   "source": [
    "friends_list.append(input(\"name new Guest\"))"
   ]
  },
  {
   "cell_type": "code",
   "execution_count": 128,
   "metadata": {},
   "outputs": [
    {
     "name": "stdout",
     "output_type": "stream",
     "text": [
      "Dear Soman! I would like to invite you for dinner with me.\n",
      "Dear Zaid! I would like to invite you for dinner with me.\n",
      "Dear Hasan! I would like to invite you for dinner with me.\n",
      "Dear Amir! I would like to invite you for dinner with me.\n",
      "Dear Saad! I would like to invite you for dinner with me.\n",
      "Dear Amin! I would like to invite you for dinner with me.\n",
      "Dear Taseen! I would like to invite you for dinner with me.\n",
      "Dear Muteeb! I would like to invite you for dinner with me.\n"
     ]
    }
   ],
   "source": [
    "\n",
    "for friend in friends_list:\n",
    "    print(\"Dear {}! I would like to invite you for dinner with me.\".format(friend.capitalize()))\n"
   ]
  },
  {
   "cell_type": "markdown",
   "metadata": {},
   "source": [
    "<h5> Q 5 : Here you have some data in variable below, your task is to make a list of specific word Surah then print the list and length of list</h5>\n"
   ]
  },
  {
   "cell_type": "code",
   "execution_count": 129,
   "metadata": {},
   "outputs": [],
   "source": [
    "data = \"Sura I Who believe in the Unseen, Sura Are steadfast in prayer, And spend Sura out of what We Have provided for them;\"\n"
   ]
  },
  {
   "cell_type": "code",
   "execution_count": 130,
   "metadata": {},
   "outputs": [],
   "source": [
    "word_list = list(data.split())\n"
   ]
  },
  {
   "cell_type": "code",
   "execution_count": 131,
   "metadata": {},
   "outputs": [],
   "source": [
    "sura_list = []\n",
    "for word in word_list:\n",
    "    if(word.lower() == \"sura\"):\n",
    "        sura_list.append(word)"
   ]
  },
  {
   "cell_type": "code",
   "execution_count": 132,
   "metadata": {},
   "outputs": [
    {
     "name": "stdout",
     "output_type": "stream",
     "text": [
      "['Sura', 'Sura', 'Sura'] \n",
      "\n",
      "length of sura list is: 3\n"
     ]
    }
   ],
   "source": [
    "print(sura_list,\"\\n\")\n",
    "print(\"length of sura list is:\",len(sura_list))"
   ]
  }
 ],
 "metadata": {
  "kernelspec": {
   "display_name": "Python 3",
   "language": "python",
   "name": "python3"
  },
  "language_info": {
   "codemirror_mode": {
    "name": "ipython",
    "version": 3
   },
   "file_extension": ".py",
   "mimetype": "text/x-python",
   "name": "python",
   "nbconvert_exporter": "python",
   "pygments_lexer": "ipython3",
   "version": "3.6.5"
  }
 },
 "nbformat": 4,
 "nbformat_minor": 2
}
