{
 "cells": [
  {
   "cell_type": "markdown",
   "metadata": {},
   "source": [
    "# Functions Continue"
   ]
  },
  {
   "cell_type": "code",
   "execution_count": 46,
   "metadata": {},
   "outputs": [
    {
     "name": "stdout",
     "output_type": "stream",
     "text": [
      "6\n",
      "6\n"
     ]
    }
   ],
   "source": [
    "# CAHNGING GLOBAL VALUE WITHIN FUNCTION\n",
    "y = 3\n",
    "def change(t):\n",
    "    global y\n",
    "    y =6\n",
    "    print(y)\n",
    "\n",
    "change(34)\n",
    "print(y)"
   ]
  },
  {
   "cell_type": "code",
   "execution_count": 45,
   "metadata": {},
   "outputs": [
    {
     "name": "stdout",
     "output_type": "stream",
     "text": [
      "6\n",
      "3\n"
     ]
    }
   ],
   "source": [
    "# LOCAL VARIABLE WITH SAME NAME AS GLOBAL BUT ITS SCOPE IS SAME AS LOCAL\n",
    "y = 3\n",
    "def change():\n",
    "    y =6\n",
    "    print(y)\n",
    "    \n",
    "change()\n",
    "print(y)"
   ]
  },
  {
   "cell_type": "code",
   "execution_count": 42,
   "metadata": {},
   "outputs": [
    {
     "name": "stdout",
     "output_type": "stream",
     "text": [
      "Wall clock time is  : 1:35pm\n",
      "Wrist watch time is : 1:35pm\n",
      "\n",
      "\n",
      "Wall clock time is     : 1:30pm\n",
      "My Wrist watch time is : 2pm\n"
     ]
    }
   ],
   "source": [
    "wallClock = \"1:30pm\"\n",
    "def setWristWatch(newTime):\n",
    "    \n",
    "    wristWatch = newTime\n",
    "    wallClock =newTime\n",
    "    print(\"Wall clock time is  : \" + wallClock)\n",
    "    print(\"Wrist watch time is : \" + wristWatch)\n",
    "    \n",
    "\n",
    "def setMyWristWatch(newTime):\n",
    "    \n",
    "    myWristWatch = newTime\n",
    "    print(\"Wall clock time is     : \" + wallClock)\n",
    "    print(\"My Wrist watch time is : \" + myWristWatch)\n",
    "\n",
    "setWristWatch(\"1:35pm\")\n",
    "print('\\n')\n",
    "setMyWristWatch(\"2pm\")"
   ]
  },
  {
   "cell_type": "markdown",
   "metadata": {},
   "source": [
    "# While Loop"
   ]
  },
  {
   "cell_type": "code",
   "execution_count": 48,
   "metadata": {},
   "outputs": [
    {
     "name": "stdout",
     "output_type": "stream",
     "text": [
      "1\n",
      "2\n",
      "3\n",
      "4\n",
      "5\n"
     ]
    }
   ],
   "source": [
    "current_num = 1\n",
    "while current_num <=5:\n",
    "    print(current_num)\n",
    "    current_num+=1"
   ]
  },
  {
   "cell_type": "code",
   "execution_count": 52,
   "metadata": {},
   "outputs": [
    {
     "name": "stdout",
     "output_type": "stream",
     "text": [
      "\n",
      "enter 'quit' to close the program: hello\n",
      "message is: hello\n",
      "\n",
      "enter 'quit' to close the program: quit\n",
      "message is: quit\n"
     ]
    }
   ],
   "source": [
    "prompt = \"i'll be repaet in while loop\"\n",
    "prompt = \"\\nEnter 'quit' to close the program: \"\n",
    "msg = ''\n",
    "while msg != 'quit':\n",
    "    msg = input(prompt.lower())\n",
    "    print(\"message is: \" + msg)"
   ]
  },
  {
   "cell_type": "code",
   "execution_count": 1,
   "metadata": {},
   "outputs": [
    {
     "name": "stdout",
     "output_type": "stream",
     "text": [
      "Enter city name or q to terminate: q\n"
     ]
    }
   ],
   "source": [
    "# TO BE CORRECTED\n",
    "cleanCity = ['karachi','lahore','peshawar']\n",
    "user_input = \"\"\n",
    "while(user_input != 'q'):\n",
    "    user_input = input(\"Enter city name or q to terminate: \")\n",
    "    if(user_input != 'q'):\n",
    "        for city in cleanCity:\n",
    "            if user_input == city:\n",
    "                print(\"cleanist city\")\n",
    "                break\n",
    "    \n",
    "          "
   ]
  },
  {
   "cell_type": "code",
   "execution_count": 8,
   "metadata": {},
   "outputs": [
    {
     "name": "stdout",
     "output_type": "stream",
     "text": [
      "Enter your age or '0' to quit: 43\n",
      "$15\n",
      "Enter your age or '0' to quit: 3\n",
      "$10\n",
      "Enter your age or '0' to quit: 2\n",
      "free\n",
      "Enter your age or '0' to quit: 0\n",
      "bye\n"
     ]
    }
   ],
   "source": [
    "while True:\n",
    "    input_age = int(input(\"Enter your age or '0' to quit: \"))\n",
    "    if(input_age != 0):\n",
    "        if(input_age <3):\n",
    "            print(\"free\")\n",
    "            \n",
    "        elif (input_age >=3 and input_age <=12):\n",
    "            print(\"$10\")\n",
    "            \n",
    "        else:\n",
    "            print(\"$15\")\n",
    "            \n",
    "    else: \n",
    "        print(\"bye\")\n",
    "        break"
   ]
  }
 ],
 "metadata": {
  "kernelspec": {
   "display_name": "Python 3",
   "language": "python",
   "name": "python3"
  },
  "language_info": {
   "codemirror_mode": {
    "name": "ipython",
    "version": 3
   },
   "file_extension": ".py",
   "mimetype": "text/x-python",
   "name": "python",
   "nbconvert_exporter": "python",
   "pygments_lexer": "ipython3",
   "version": "3.6.5"
  }
 },
 "nbformat": 4,
 "nbformat_minor": 2
}
