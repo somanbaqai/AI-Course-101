{
 "cells": [
  {
   "cell_type": "code",
   "execution_count": 23,
   "metadata": {},
   "outputs": [
    {
     "name": "stdout",
     "output_type": "stream",
     "text": [
      "there are 100 students in class\n",
      "there are 100 students in class\n",
      "there are 100 students\n"
     ]
    }
   ],
   "source": [
    "# Task: 1 (concatenating + casting from integer to string example)\n",
    "std = 100\n",
    "print (\"there are \" + str(std)  + \" students in class\")\n",
    "# another way\n",
    "\n",
    "print('there are',std,'students in class')\n"
   ]
  },
  {
   "cell_type": "code",
   "execution_count": 15,
   "metadata": {},
   "outputs": [
    {
     "name": "stdout",
     "output_type": "stream",
     "text": [
      "I have a student's laptop.\n"
     ]
    }
   ],
   "source": [
    "# Task: 2\n",
    "str2 = \"I have a student's laptop.\"\n",
    "print(str2)"
   ]
  },
  {
   "cell_type": "code",
   "execution_count": 16,
   "metadata": {},
   "outputs": [
    {
     "name": "stdout",
     "output_type": "stream",
     "text": [
      "there are 30 fruits in the basket\n"
     ]
    }
   ],
   "source": [
    "# Task: 3 (concatenating + casting from integer to string example)\n",
    "mangoes = 10\n",
    "apple = 20\n",
    "print (\"there are \" + str(mangoes + apple) + \" fruits in the basket\")"
   ]
  },
  {
   "cell_type": "code",
   "execution_count": 24,
   "metadata": {},
   "outputs": [
    {
     "data": {
      "text/plain": [
       "100"
      ]
     },
     "execution_count": 24,
     "metadata": {},
     "output_type": "execute_result"
    }
   ],
   "source": [
    "# Example of casting from string to integer \n",
    "var = \"100\"\n",
    "test = int(var)\n",
    "type(test)\n",
    "test"
   ]
  },
  {
   "cell_type": "code",
   "execution_count": 28,
   "metadata": {},
   "outputs": [
    {
     "name": "stdout",
     "output_type": "stream",
     "text": [
      "there are 100 students and 10 teachers.\n"
     ]
    }
   ],
   "source": [
    "\n",
    "# ANoter way to print\n",
    "a = 10\n",
    "print(\"there are {} students and {} teachers.\".format(std,a))"
   ]
  }
 ],
 "metadata": {
  "kernelspec": {
   "display_name": "Python 3",
   "language": "python",
   "name": "python3"
  },
  "language_info": {
   "codemirror_mode": {
    "name": "ipython",
    "version": 3
   },
   "file_extension": ".py",
   "mimetype": "text/x-python",
   "name": "python",
   "nbconvert_exporter": "python",
   "pygments_lexer": "ipython3",
   "version": "3.6.5"
  }
 },
 "nbformat": 4,
 "nbformat_minor": 2
}
