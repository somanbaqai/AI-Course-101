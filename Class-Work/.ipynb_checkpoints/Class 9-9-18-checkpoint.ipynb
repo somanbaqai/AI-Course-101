{
 "cells": [
  {
   "cell_type": "markdown",
   "metadata": {},
   "source": [
    "# Functions Continue"
   ]
  },
  {
   "cell_type": "code",
   "execution_count": 40,
   "metadata": {},
   "outputs": [
    {
     "name": "stdout",
     "output_type": "stream",
     "text": [
      "6\n",
      "6\n"
     ]
    }
   ],
   "source": [
    "# CAHNGING GLOBAL VALUE WITHIN FUNCTION\n",
    "y = 3\n",
    "def change():\n",
    "    global y\n",
    "    y =6\n",
    "    print(y)\n",
    "    \n",
    "change()\n",
    "print(y)"
   ]
  },
  {
   "cell_type": "code",
   "execution_count": 41,
   "metadata": {},
   "outputs": [
    {
     "name": "stdout",
     "output_type": "stream",
     "text": [
      "Wall clock time is  : 1:35pm\n",
      "Wrist watch time is : 1:35pm\n",
      "\n",
      "\n",
      "Wall clock time is  : 1:30pm\n",
      "My Wrist watch time is : 2pm\n"
     ]
    }
   ],
   "source": [
    "wallClock = \"1:30pm\"\n",
    "def setWristWatch(newTime):\n",
    "    \n",
    "    wristWatch = newTime\n",
    "    wallClock =newTime\n",
    "    print(\"Wall clock time is  : \" + wallClock)\n",
    "    print(\"Wrist watch time is : \" + wristWatch)\n",
    "    \n",
    "\n",
    "def setMyWristWatch(newTime):\n",
    "    \n",
    "    myWristWatch = newTime\n",
    "    print(\"Wall clock time is     : \" + wallClock)\n",
    "    print(\"My Wrist watch time is : \" + myWristWatch)\n",
    "\n",
    "setWristWatch(\"1:35pm\")\n",
    "print('\\n')\n",
    "setMyWristWatch(\"2pm\")"
   ]
  },
  {
   "cell_type": "code",
   "execution_count": 22,
   "metadata": {},
   "outputs": [],
   "source": []
  }
 ],
 "metadata": {
  "kernelspec": {
   "display_name": "Python 3",
   "language": "python",
   "name": "python3"
  },
  "language_info": {
   "codemirror_mode": {
    "name": "ipython",
    "version": 3
   },
   "file_extension": ".py",
   "mimetype": "text/x-python",
   "name": "python",
   "nbconvert_exporter": "python",
   "pygments_lexer": "ipython3",
   "version": "3.6.5"
  }
 },
 "nbformat": 4,
 "nbformat_minor": 2
}
