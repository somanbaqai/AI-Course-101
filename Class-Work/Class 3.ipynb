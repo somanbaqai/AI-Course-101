{
 "cells": [
  {
   "cell_type": "code",
   "execution_count": 23,
   "metadata": {},
   "outputs": [
    {
     "name": "stdout",
     "output_type": "stream",
     "text": [
      "there are 100 students in class\n",
      "there are 100 students in class\n",
      "there are 100 students\n"
     ]
    }
   ],
   "source": [
    "# Task: 1 (concatenating + casting from integer to string example)\n",
    "std = 100\n",
    "print (\"there are \" + str(std)  + \" students in class\")\n",
    "# another way\n",
    "\n",
    "print('there are',std,'students in class')\n"
   ]
  },
  {
   "cell_type": "code",
   "execution_count": 29,
   "metadata": {},
   "outputs": [
    {
     "ename": "SyntaxError",
     "evalue": "invalid syntax (<ipython-input-29-9c1bef3beb33>, line 2)",
     "output_type": "error",
     "traceback": [
      "\u001b[1;36m  File \u001b[1;32m\"<ipython-input-29-9c1bef3beb33>\"\u001b[1;36m, line \u001b[1;32m2\u001b[0m\n\u001b[1;33m    str2 = 'I have a student/' s laptop'\u001b[0m\n\u001b[1;37m                               ^\u001b[0m\n\u001b[1;31mSyntaxError\u001b[0m\u001b[1;31m:\u001b[0m invalid syntax\n"
     ]
    }
   ],
   "source": [
    "# Task: 2\n",
    "str2 = 'I have a student/' s laptop'\n",
    "print(str2)"
   ]
  },
  {
   "cell_type": "code",
   "execution_count": 16,
   "metadata": {},
   "outputs": [
    {
     "name": "stdout",
     "output_type": "stream",
     "text": [
      "there are 30 fruits in the basket\n"
     ]
    }
   ],
   "source": [
    "# Task: 3 (concatenating + casting from integer to string example)\n",
    "mangoes = 10\n",
    "apple = 20\n",
    "print (\"there are \" + str(mangoes + apple) + \" fruits in the basket\")"
   ]
  },
  {
   "cell_type": "code",
   "execution_count": 24,
   "metadata": {},
   "outputs": [
    {
     "data": {
      "text/plain": [
       "100"
      ]
     },
     "execution_count": 24,
     "metadata": {},
     "output_type": "execute_result"
    }
   ],
   "source": [
    "# Example of casting from string to integer \n",
    "var = \"100\"\n",
    "test = int(var)\n",
    "type(test)\n",
    "test"
   ]
  },
  {
   "cell_type": "code",
   "execution_count": 30,
   "metadata": {},
   "outputs": [
    {
     "name": "stdout",
     "output_type": "stream",
     "text": [
      "there are 100 students and 10 teachers.\n"
     ]
    }
   ],
   "source": [
    "\n",
    "# ANoter way to print\n",
    "a = 10\n",
    "print(\"there are {} students and {} teachers.\".format(std,a))"
   ]
  },
  {
   "cell_type": "markdown",
   "metadata": {},
   "source": [
    "# IF Statment"
   ]
  },
  {
   "cell_type": "code",
   "execution_count": 33,
   "metadata": {},
   "outputs": [
    {
     "name": "stdout",
     "output_type": "stream",
     "text": [
      "my val is 100\n"
     ]
    }
   ],
   "source": [
    "myVal = 100\n",
    "if(myVal == 100):\n",
    "    print(\"my val is {}\".format(myVal))\n"
   ]
  },
  {
   "cell_type": "code",
   "execution_count": 36,
   "metadata": {},
   "outputs": [
    {
     "data": {
      "text/plain": [
       "99"
      ]
     },
     "execution_count": 36,
     "metadata": {},
     "output_type": "execute_result"
    }
   ],
   "source": [
    "a = 34\n",
    "if a < 99:\n",
    "  a = 99\n",
    "a"
   ]
  },
  {
   "cell_type": "code",
   "execution_count": 39,
   "metadata": {},
   "outputs": [
    {
     "name": "stdout",
     "output_type": "stream",
     "text": [
      "you are under age\n"
     ]
    }
   ],
   "source": [
    "# Class task\n",
    "ticket = True\n",
    "age = 14\n",
    "\n",
    "if (ticket):\n",
    "    if(age > 18):\n",
    "        print(\"Enjoy Movie!\")\n",
    "    else:\n",
    "        print(\"you are under age\")\n",
    "else:\n",
    "    print(\"u do not have ticket\")"
   ]
  },
  {
   "cell_type": "code",
   "execution_count": 41,
   "metadata": {},
   "outputs": [
    {
     "name": "stdout",
     "output_type": "stream",
     "text": [
      "your name is not in voter list\n"
     ]
    }
   ],
   "source": [
    "# Class task\n",
    "nic = True\n",
    "voterList = False\n",
    " \n",
    "if(nic == True):\n",
    "    if(voterList == True):\n",
    "        print(\"eligable\")\n",
    "    else:\n",
    "        print(\"your name is not in voter list\")\n",
    "else:\n",
    "    print(\"ypou do not have CNIC\")\n",
    "    "
   ]
  }
 ],
 "metadata": {
  "kernelspec": {
   "display_name": "Python 3",
   "language": "python",
   "name": "python3"
  },
  "language_info": {
   "codemirror_mode": {
    "name": "ipython",
    "version": 3
   },
   "file_extension": ".py",
   "mimetype": "text/x-python",
   "name": "python",
   "nbconvert_exporter": "python",
   "pygments_lexer": "ipython3",
   "version": "3.6.5"
  }
 },
 "nbformat": 4,
 "nbformat_minor": 2
}
