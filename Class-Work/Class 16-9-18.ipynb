{
 "cells": [
  {
   "cell_type": "markdown",
   "metadata": {},
   "source": [
    "# Classes\n",
    "    \n",
    "    * general behavior\n",
    "    * blue print of real world objects or entities\n",
    "    * standard vs general behavior\n",
    "    * evert reall world object has state and behaviour.\n",
    "    * obj name must be different"
   ]
  },
  {
   "cell_type": "code",
   "execution_count": 29,
   "metadata": {},
   "outputs": [],
   "source": [
    "class Patient():\n",
    "    def __init__(self,first_name,last_name,age):\n",
    "        self.first_name = first_name\n",
    "        self.last_name = last_name\n",
    "        self.age = age\n",
    "        \n",
    "    def takeMed(self):\n",
    "        print(\"taking medicine\")"
   ]
  },
  {
   "cell_type": "code",
   "execution_count": 24,
   "metadata": {},
   "outputs": [
    {
     "name": "stdout",
     "output_type": "stream",
     "text": [
      "12\n",
      "taking medicine\n"
     ]
    }
   ],
   "source": [
    "# obj name must be different\n",
    "# to access attribute of class within class use self pointer\n",
    "patientObj = Patient(last_name='baqai',age=12,first_name='soman')\n",
    "print(patientObj.age)\n",
    "\n",
    "# CALLING CLASS METHOD\n",
    "patientObj.takeMed()"
   ]
  },
  {
   "cell_type": "markdown",
   "metadata": {},
   "source": [
    "### SELF TASK"
   ]
  },
  {
   "cell_type": "code",
   "execution_count": 46,
   "metadata": {},
   "outputs": [],
   "source": [
    "class Restaurant():\n",
    "    def __init__(self,restaurant_name,cuisine_type):\n",
    "        self.restaurant_name = restaurant_name\n",
    "        self.cuisine_type = cuisine_type\n",
    "        \n",
    "    def Describe_restaurant(self):\n",
    "        print(\"Restaurant Name is: \" + self.restaurant_name)\n",
    "        print(\"Cuisine type is: \" + self.cuisine_type)\n",
    "        \n",
    "    def Open_Restaurant(self):\n",
    "        print(\"Restaurant is open\")\n",
    "       "
   ]
  },
  {
   "cell_type": "code",
   "execution_count": 49,
   "metadata": {},
   "outputs": [
    {
     "name": "stdout",
     "output_type": "stream",
     "text": [
      "broadway\n",
      "pizza\n",
      "\n",
      "Restaurant Name is: broadway\n",
      "Cuisine type is: pizza\n",
      "Restaurant is open\n"
     ]
    }
   ],
   "source": [
    "restaurantObj1 = Restaurant(\"broadway\",\"pizza\")\n",
    "\n",
    "# printing by refrencing attributes directly\n",
    "print(restaurantObj1.restaurant_name)\n",
    "print(restaurantObj1.cuisine_type + '\\n')\n",
    "\n",
    "# calling methods to print details\n",
    "restaurantObj1.Describe_restaurant()\n",
    "restaurantObj1.Open_Restaurant()\n",
    "\n"
   ]
  },
  {
   "cell_type": "markdown",
   "metadata": {},
   "source": [
    "## More Concepts On Class"
   ]
  },
  {
   "cell_type": "code",
   "execution_count": 2,
   "metadata": {},
   "outputs": [],
   "source": [
    "class Car():\n",
    "    def __init__(self,make,model,year):\n",
    "        \n",
    "        self.model = model\n",
    "        self.company = make\n",
    "        self.year = year\n",
    "        self.odoMeterReading = 0\n",
    "    \n",
    "    def get_descriptive_model(self):\n",
    "        print(self.company + ' ' + self.model + ' ' + str(self.year))\n",
    "     \n",
    "    # Setter for Odometer\n",
    "    def set_OdoMeter(self,reading):\n",
    "        self.odoMeterReading = reading\n",
    "    # Getter for Odometer    \n",
    "    def get_OdoMeter(self):\n",
    "        return self.odoMeterReading"
   ]
  },
  {
   "cell_type": "code",
   "execution_count": 76,
   "metadata": {},
   "outputs": [
    {
     "name": "stdout",
     "output_type": "stream",
     "text": [
      "audi a4 2017\n",
      "Odometer Reading at this instance is: {} 80\n"
     ]
    }
   ],
   "source": [
    "carObj1 = Car('audi','a4',2017)\n",
    "carObj1.get_descriptive_model()\n",
    "\n",
    "carObj1.set_OdoMeter(80)\n",
    "  \n",
    "print(\"Odometer Reading at this instance is: {} \" + format(carObj1.get_OdoMeter()))"
   ]
  },
  {
   "cell_type": "markdown",
   "metadata": {},
   "source": [
    "## Inheritance"
   ]
  },
  {
   "cell_type": "code",
   "execution_count": 11,
   "metadata": {},
   "outputs": [],
   "source": [
    "class ElectricCar(Car): # Car = parent class\n",
    "    def __init__(self,make,model,year,oil):\n",
    "        super().__init__(make,model,year) # calling parent initializer (constructor)\n",
    "        self.oil = oil"
   ]
  },
  {
   "cell_type": "code",
   "execution_count": 12,
   "metadata": {},
   "outputs": [],
   "source": [
    "ElectricCarObj1 = ElectricCar('tesla','t1', 2018 , 11)\n"
   ]
  },
  {
   "cell_type": "code",
   "execution_count": null,
   "metadata": {},
   "outputs": [],
   "source": []
  }
 ],
 "metadata": {
  "kernelspec": {
   "display_name": "Python 3",
   "language": "python",
   "name": "python3"
  },
  "language_info": {
   "codemirror_mode": {
    "name": "ipython",
    "version": 3
   },
   "file_extension": ".py",
   "mimetype": "text/x-python",
   "name": "python",
   "nbconvert_exporter": "python",
   "pygments_lexer": "ipython3",
   "version": "3.6.5"
  }
 },
 "nbformat": 4,
 "nbformat_minor": 2
}
